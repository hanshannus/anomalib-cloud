{
 "cells": [
  {
   "attachments": {},
   "cell_type": "markdown",
   "metadata": {},
   "source": [
    "Configure your credentials by:\n",
    "1. create an '.azureml' directory in notebooks directory (mkdir .azureml)\n",
    "2. go to azure portal and download the ML Studio Workspace 'config.json'\n",
    "3. copy 'config.json' to '.azureml/config.json'\n",
    "\n",
    "before running the notebook"
   ]
  },
  {
   "cell_type": "code",
   "execution_count": 1,
   "metadata": {},
   "outputs": [
    {
     "name": "stderr",
     "output_type": "stream",
     "text": [
      "Found the config file in: ./.azureml/config.json\n",
      "Warning: the provided asset name 'anomaly' will not be used for anonymous registration\n",
      "Warning: the provided asset name 'anomaly' will not be used for anonymous registration\n",
      "\u001b[32mUploading train (0.01 MBs): 100%|██████████| 10613/10613 [00:00<00:00, 74127.24it/s]\n",
      "\u001b[39m\n",
      "\n"
     ]
    },
    {
     "data": {
      "text/html": [
       "<table style=\"width:100%\"><tr><th>Experiment</th><th>Name</th><th>Type</th><th>Status</th><th>Details Page</th></tr><tr><td>xxx-anomaly</td><td>train_anomaly_03-13-23T17-12-05</td><td>command</td><td>Starting</td><td><a href=\"https://ml.azure.com/runs/train_anomaly_03-13-23T17-12-05?wsid=/subscriptions/32dff789-bcd1-41d0-8899-b06bf1c4a8c7/resourcegroups/cv-framework-rg/workspaces/cv-framework&amp;tid=8f47ad71-44ca-48bf-afe3-56b9360a4495\" target=\"_blank\" rel=\"noopener\">Link to Azure Machine Learning studio</a></td></tr></table>"
      ],
      "text/plain": [
       "Command({'parameters': {}, 'init': False, 'type': 'command', 'status': 'Starting', 'log_files': None, 'name': 'train_anomaly_03-13-23T17-12-05', 'description': None, 'tags': {}, 'properties': {'mlflow.source.git.repoURL': 'https://github.com/hanshannus/anomalib-cloud.git', 'mlflow.source.git.branch': 'main', 'mlflow.source.git.commit': '3efe9b4705087f38180a5b3c9cfdad92bf7f930a', 'azureml.git.dirty': 'True', '_azureml.ComputeTargetType': 'amlctrain', 'ContentSnapshotId': 'dc94d211-956b-429e-80ed-92d1f1e6bcb6'}, 'print_as_yaml': True, 'id': '/subscriptions/32dff789-bcd1-41d0-8899-b06bf1c4a8c7/resourceGroups/cv-framework-rg/providers/Microsoft.MachineLearningServices/workspaces/cv-framework/jobs/train_anomaly_03-13-23T17-12-05', 'Resource__source_path': None, 'base_path': '/Users/hannes/Dropbox/Repos/anomalib-cloud/notebooks', 'creation_context': <azure.ai.ml.entities._system_data.SystemData object at 0x117a0cc10>, 'serialize': <msrest.serialization.Serializer object at 0x117a02ee0>, 'allowed_keys': {}, 'key_restriction': False, 'logger': <Logger attr_dict (WARNING)>, 'display_name': 'Train Anomaly Model', 'experiment_name': 'xxx-anomaly', 'compute': 'cpu-cluster', 'services': {'Tracking': <azure.ai.ml.entities._job.job_service.JobService object at 0x117a6cfd0>, 'Studio': <azure.ai.ml.entities._job.job_service.JobService object at 0x117a0cd60>}, 'comment': None, 'job_inputs': {'data_dir': {'type': 'uri_folder', 'path': 'azureml://subscriptions/32dff789-bcd1-41d0-8899-b06bf1c4a8c7/resourcegroups/cv-framework-rg/workspaces/cv-framework/datastores/workspaceblobstore/paths/datasets/mvtec/', 'mode': 'ro_mount'}}, 'job_outputs': {'output_dir': {'type': 'uri_folder', 'mode': 'rw_mount'}, 'default': {'type': 'uri_folder', 'path': 'azureml://datastores/workspaceartifactstore/ExperimentRun/dcid.train_anomaly_03-13-23T17-12-05', 'mode': 'rw_mount'}}, 'inputs': {'data_dir': <azure.ai.ml.entities._job.pipeline._io.base.NodeInput object at 0x117a02eb0>}, 'outputs': {'output_dir': <azure.ai.ml.entities._job.pipeline._io.base.NodeOutput object at 0x117a029a0>, 'default': <azure.ai.ml.entities._job.pipeline._io.base.NodeOutput object at 0x117a02580>}, 'component': CommandComponent({'auto_increment_version': True, 'source': 'REMOTE.WORKSPACE.JOB', 'is_anonymous': False, 'name': 'train_anomaly_03-13-23T17-12-05', 'description': None, 'tags': {}, 'properties': {}, 'print_as_yaml': True, 'id': None, 'Resource__source_path': None, 'base_path': PosixPath('.'), 'creation_context': <azure.ai.ml.entities._system_data.SystemData object at 0x117a0cc10>, 'serialize': <msrest.serialization.Serializer object at 0x117a02820>, 'command': 'python command.py --data_dir ${{inputs.data_dir}} --output_dir ${{outputs.output_dir}}', 'code': '/subscriptions/32dff789-bcd1-41d0-8899-b06bf1c4a8c7/resourceGroups/cv-framework-rg/providers/Microsoft.MachineLearningServices/workspaces/cv-framework/codes/2119e58e-e436-47ed-8de1-7b26d02b1f8b/versions/1', 'environment_variables': {}, 'environment': '/subscriptions/32dff789-bcd1-41d0-8899-b06bf1c4a8c7/resourceGroups/cv-framework-rg/providers/Microsoft.MachineLearningServices/workspaces/cv-framework/environments/anomaly/versions/4', 'distribution': None, 'resources': None, 'version': None, 'latest_version': None, 'schema': None, 'type': 'command', 'display_name': 'Train Anomaly Model', 'is_deterministic': True, 'inputs': {'data_dir': {'type': 'uri_folder', 'path': 'azureml://subscriptions/32dff789-bcd1-41d0-8899-b06bf1c4a8c7/resourcegroups/cv-framework-rg/workspaces/cv-framework/datastores/workspaceblobstore/paths/datasets/mvtec/', 'mode': 'ro_mount'}}, 'outputs': {'output_dir': {'type': 'uri_folder', 'mode': 'rw_mount'}, 'default': {'type': 'uri_folder', 'path': 'azureml://datastores/workspaceartifactstore/ExperimentRun/dcid.train_anomaly_03-13-23T17-12-05', 'mode': 'rw_mount'}}, 'yaml_str': None, 'other_parameter': {'status': 'Starting', 'parameters': {}}}), 'referenced_control_flow_node_instance_id': None, 'kwargs': {'services': {'Tracking': <azure.ai.ml.entities._job.job_service.JobService object at 0x117a6cfd0>, 'Studio': <azure.ai.ml.entities._job.job_service.JobService object at 0x117a0cd60>}, 'status': 'Starting', 'creation_context': <azure.ai.ml.entities._system_data.SystemData object at 0x117a0cc10>}, 'instance_id': '34e3d551-e79a-42ef-8728-fae7efdacec0', 'source': 'BUILDER', 'validate_required_input_not_provided': True, 'limits': None, 'identity': None, 'distribution': None, 'environment_variables': {}, 'environment': 'anomaly:4', 'resources': {'instance_count': 1, 'shm_size': '2g'}, 'swept': False})"
      ]
     },
     "execution_count": 1,
     "metadata": {},
     "output_type": "execute_result"
    }
   ],
   "source": [
    "from azure.ai.ml import command\n",
    "from azure.ai.ml import Input, Output\n",
    "from datetime import datetime\n",
    "from azure.ai.ml import MLClient\n",
    "from azure.identity import InteractiveBrowserCredential\n",
    "\n",
    "ENV_NAME = \"anomaly\"\n",
    "ENV_VERSION = \"4\"\n",
    "COMPUTE_NAME = \"cpu-cluster\"\n",
    "DATA_NAME = \"mvtec\"\n",
    "DATA_VERSION = \"3\"  # <- your version\n",
    "\n",
    "credential = InteractiveBrowserCredential()\n",
    "client = MLClient.from_config(credential)\n",
    "\n",
    "env = client.environments.get(ENV_NAME, version=ENV_VERSION)\n",
    "data = client.data.get(DATA_NAME, version=DATA_VERSION)\n",
    "\n",
    "timestamp = datetime.now().strftime('%m-%d-%yT%H-%M-%S')\n",
    "job = command(\n",
    "    experiment_name=\"transistor-anomaly\",\n",
    "    name=f\"train_anomaly_{timestamp}\",\n",
    "    display_name=f\"Train Anomaly Model\",\n",
    "    inputs=dict(\n",
    "        data_dir=Input(path=data.path, type=\"uri_folder\"),\n",
    "    ),\n",
    "    outputs=dict(\n",
    "        output_dir=Output(type=\"uri_folder\", mode=\"rw_mount\"),\n",
    "    ),\n",
    "    # The source folder of the component\n",
    "    code=\"../anomalibcloud/train\",\n",
    "    command=\"python command.py --data_dir ${{inputs.data_dir}} --output_dir ${{outputs.output_dir}}\",\n",
    "    environment=env,\n",
    "    compute=COMPUTE_NAME,\n",
    ")\n",
    "# submit the command\n",
    "returned_job = client.create_or_update(job)\n",
    "returned_job"
   ]
  },
  {
   "cell_type": "code",
   "execution_count": null,
   "metadata": {},
   "outputs": [],
   "source": []
  }
 ],
 "metadata": {
  "kernelspec": {
   "display_name": "anomalibcloud-wHtLq50J-py3.9",
   "language": "python",
   "name": "python3"
  },
  "language_info": {
   "codemirror_mode": {
    "name": "ipython",
    "version": 3
   },
   "file_extension": ".py",
   "mimetype": "text/x-python",
   "name": "python",
   "nbconvert_exporter": "python",
   "pygments_lexer": "ipython3",
   "version": "3.9.10"
  },
  "orig_nbformat": 4
 },
 "nbformat": 4,
 "nbformat_minor": 2
}
