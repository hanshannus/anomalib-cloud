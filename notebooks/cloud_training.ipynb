{
 "cells": [
  {
   "cell_type": "code",
   "execution_count": null,
   "metadata": {},
   "outputs": [],
   "source": [
    "ENV_NAME = \"anomaly\"\n",
    "ENV_DESCRIPTION = \"Docker image for anomaly detection with anomalib.\"\n",
    "ENV_DOCKER_BUILDCONTEXT = \"docker\"\n",
    "ENV_DOCKERFILE = \"Dockerfile\"\n",
    "ENV_VERSION = \"4\"\n",
    "\n",
    "DATA_NAME = \"mvtec\"\n",
    "DATA_VERSION = \"1\"\n",
    "\n",
    "COMPUTE_NAME = \"cpu-cluster\"\n",
    "\n",
    "COMPONENT_VERSION = \"1\"\n"
   ]
  },
  {
   "attachments": {},
   "cell_type": "markdown",
   "metadata": {},
   "source": [
    "## Create AzureML Environment - Docker"
   ]
  },
  {
   "cell_type": "code",
   "execution_count": null,
   "metadata": {},
   "outputs": [],
   "source": [
    "from azure.ai.ml import MLClient\n",
    "from azure.ai.ml.entities import Environment, BuildContext\n",
    "from azure.identity import InteractiveBrowserCredential\n",
    "\n",
    "# get credentials by logging in to Azure Portal (a new browser tab will open)\n",
    "credential = InteractiveBrowserCredential()\n",
    "# establish a client connection to AzureML Studio Workspace\n",
    "client = MLClient.from_config(credential)\n",
    "# define docker build\n",
    "docker = BuildContext(\n",
    "    path=ENV_DOCKER_BUILDCONTEXT,\n",
    "    dockerfile_path=ENV_DOCKERFILE,\n",
    ")\n",
    "# define environment locally\n",
    "env = Environment(\n",
    "    build=docker,\n",
    "    name=ENV_NAME,\n",
    "    version=ENV_VERSION,\n",
    "    description=ENV_DESCRIPTION,\n",
    ")\n",
    "# create environment in workspace\n",
    "client.environments.create_or_update(env)"
   ]
  },
  {
   "attachments": {},
   "cell_type": "markdown",
   "metadata": {},
   "source": [
    "## Run AzureML Job - Command"
   ]
  },
  {
   "cell_type": "code",
   "execution_count": 1,
   "metadata": {},
   "outputs": [
    {
     "ename": "ValidationException",
     "evalue": "We could not find config.json in: . or in its parent directories. Please provide the full path to the config file or ensure that config.json exists in the parent directories.",
     "output_type": "error",
     "traceback": [
      "\u001b[0;31m---------------------------------------------------------------------------\u001b[0m",
      "\u001b[0;31mValidationException\u001b[0m                       Traceback (most recent call last)",
      "Cell \u001b[0;32mIn[1], line 10\u001b[0m\n\u001b[1;32m      7\u001b[0m timestamp \u001b[39m=\u001b[39m datetime\u001b[39m.\u001b[39mnow()\u001b[39m.\u001b[39mstrftime(\u001b[39m'\u001b[39m\u001b[39m%\u001b[39m\u001b[39mm-\u001b[39m\u001b[39m%d\u001b[39;00m\u001b[39m-\u001b[39m\u001b[39m%\u001b[39m\u001b[39myT\u001b[39m\u001b[39m%\u001b[39m\u001b[39mH-\u001b[39m\u001b[39m%\u001b[39m\u001b[39mM-\u001b[39m\u001b[39m%\u001b[39m\u001b[39mS\u001b[39m\u001b[39m'\u001b[39m)\n\u001b[1;32m      9\u001b[0m credential \u001b[39m=\u001b[39m InteractiveBrowserCredential()\n\u001b[0;32m---> 10\u001b[0m client \u001b[39m=\u001b[39m MLClient\u001b[39m.\u001b[39;49mfrom_config(credential)\n\u001b[1;32m     12\u001b[0m env \u001b[39m=\u001b[39m client\u001b[39m.\u001b[39menvironments\u001b[39m.\u001b[39mget(ENV_NAME, version\u001b[39m=\u001b[39mENV_VERSION)\n\u001b[1;32m     13\u001b[0m data \u001b[39m=\u001b[39m client\u001b[39m.\u001b[39mdata\u001b[39m.\u001b[39mget(DATA_NAME, version\u001b[39m=\u001b[39mDATA_VERSION)\n",
      "File \u001b[0;32m~/Library/Caches/pypoetry/virtualenvs/eocloud-wEpi00lk-py3.9/lib/python3.9/site-packages/azure/ai/ml/_ml_client.py:508\u001b[0m, in \u001b[0;36mMLClient.from_config\u001b[0;34m(cls, credential, path, file_name, **kwargs)\u001b[0m\n\u001b[1;32m    502\u001b[0m     \u001b[39mif\u001b[39;00m \u001b[39mnot\u001b[39;00m found_path:\n\u001b[1;32m    503\u001b[0m         msg \u001b[39m=\u001b[39m (\n\u001b[1;32m    504\u001b[0m             \u001b[39m\"\u001b[39m\u001b[39mWe could not find config.json in: \u001b[39m\u001b[39m{}\u001b[39;00m\u001b[39m or in its parent directories. \u001b[39m\u001b[39m\"\u001b[39m\n\u001b[1;32m    505\u001b[0m             \u001b[39m\"\u001b[39m\u001b[39mPlease provide the full path to the config file or ensure that \u001b[39m\u001b[39m\"\u001b[39m\n\u001b[1;32m    506\u001b[0m             \u001b[39m\"\u001b[39m\u001b[39mconfig.json exists in the parent directories.\u001b[39m\u001b[39m\"\u001b[39m\n\u001b[1;32m    507\u001b[0m         )\n\u001b[0;32m--> 508\u001b[0m         \u001b[39mraise\u001b[39;00m ValidationException(\n\u001b[1;32m    509\u001b[0m             message\u001b[39m=\u001b[39mmsg\u001b[39m.\u001b[39mformat(path),\n\u001b[1;32m    510\u001b[0m             no_personal_data_message\u001b[39m=\u001b[39mmsg\u001b[39m.\u001b[39mformat(\u001b[39m\"\u001b[39m\u001b[39m[path]\u001b[39m\u001b[39m\"\u001b[39m),\n\u001b[1;32m    511\u001b[0m             target\u001b[39m=\u001b[39mErrorTarget\u001b[39m.\u001b[39mGENERAL,\n\u001b[1;32m    512\u001b[0m             error_category\u001b[39m=\u001b[39mErrorCategory\u001b[39m.\u001b[39mUSER_ERROR,\n\u001b[1;32m    513\u001b[0m         )\n\u001b[1;32m    515\u001b[0m subscription_id, resource_group, workspace_name \u001b[39m=\u001b[39m MLClient\u001b[39m.\u001b[39m_get_workspace_info(found_path)\n\u001b[1;32m    517\u001b[0m module_logger\u001b[39m.\u001b[39minfo(\u001b[39m\"\u001b[39m\u001b[39mFound the config file in: \u001b[39m\u001b[39m%s\u001b[39;00m\u001b[39m\"\u001b[39m, found_path)\n",
      "\u001b[0;31mValidationException\u001b[0m: We could not find config.json in: . or in its parent directories. Please provide the full path to the config file or ensure that config.json exists in the parent directories."
     ]
    }
   ],
   "source": [
    "from azure.ai.ml import command\n",
    "from azure.ai.ml import Input, Output\n",
    "from datetime import datetime\n",
    "from azure.ai.ml import MLClient\n",
    "from azure.identity import InteractiveBrowserCredential\n",
    "\n",
    "timestamp = datetime.now().strftime('%m-%d-%yT%H-%M-%S')\n",
    "\n",
    "credential = InteractiveBrowserCredential()\n",
    "client = MLClient.from_config(credential)\n",
    "\n",
    "env = client.environments.get(ENV_NAME, version=ENV_VERSION)\n",
    "data = client.data.get(DATA_NAME, version=DATA_VERSION)\n",
    "\n",
    "job = command(\n",
    "    experiment_name=\"carpet-anomaly\",\n",
    "    name=f\"train_anomaly_{timestamp}\",\n",
    "    display_name=f\"Train Anomaly Model\",\n",
    "    inputs=dict(\n",
    "        data_dir=Input(path=data.path, type=\"uri_folder\"),\n",
    "    ),\n",
    "    outputs=dict(\n",
    "        output_dir=Output(type=\"uri_folder\", mode=\"rw_mount\"),\n",
    "    ),\n",
    "    # The source folder of the component\n",
    "    code=\"./src\",\n",
    "    command=\"python command.py --data_dir ${{inputs.data_dir}} --output_dir ${{outputs.output_dir}}\",\n",
    "    environment=env,\n",
    "    compute=COMPUTE_NAME,\n",
    ")\n",
    "# submit the command\n",
    "returned_job = client.create_or_update(job)\n",
    "returned_job"
   ]
  },
  {
   "attachments": {},
   "cell_type": "markdown",
   "metadata": {},
   "source": [
    "## Run AzureML Job - Component"
   ]
  },
  {
   "cell_type": "code",
   "execution_count": null,
   "metadata": {},
   "outputs": [],
   "source": [
    "\n",
    "try:\n",
    "    credential = DefaultAzureCredential()\n",
    "    # Check if given credential can get token successfully.\n",
    "    credential.get_token(\"https://management.azure.com/.default\")\n",
    "except Exception as ex:\n",
    "    # Fall back to InteractiveBrowserCredential in case DefaultAzureCredential not work\n",
    "    credential = InteractiveBrowserCredential()\n",
    "\n",
    "ml_client = MLClient.from_config(credential=credential)\n",
    "\n",
    "ml_env = ml_client.environments.get(\"anomaly\", version=\"2\")\n",
    "ml_env"
   ]
  },
  {
   "cell_type": "code",
   "execution_count": null,
   "metadata": {},
   "outputs": [],
   "source": [
    "ml_env"
   ]
  },
  {
   "cell_type": "code",
   "execution_count": 1,
   "metadata": {},
   "outputs": [
    {
     "name": "stderr",
     "output_type": "stream",
     "text": [
      "Found the config file in: ./.azureml/config.json\n",
      "\u001b[32mUploading train (0.01 MBs): 100%|██████████| 9850/9850 [00:00<00:00, 52800.28it/s]\n",
      "\u001b[39m\n",
      "\n"
     ]
    },
    {
     "data": {
      "text/plain": [
       "CommandComponent({'auto_increment_version': False, 'source': 'REMOTE.WORKSPACE.COMPONENT', 'is_anonymous': False, 'name': 'train_anomalib', 'description': None, 'tags': {}, 'properties': {}, 'print_as_yaml': True, 'id': '/subscriptions/32dff789-bcd1-41d0-8899-b06bf1c4a8c7/resourceGroups/cv-framework-rg/providers/Microsoft.MachineLearningServices/workspaces/cv-framework/components/train_anomalib/versions/0.0.10', 'Resource__source_path': None, 'base_path': PosixPath('.'), 'creation_context': <azure.ai.ml._restclient.v2022_10_01.models._models_py3.SystemData object at 0x114f6b400>, 'serialize': <msrest.serialization.Serializer object at 0x114e54bb0>, 'command': 'python command.py --data_dir ${{inputs.data_dir}} $[[--max_epochs ${{inputs.max_epochs}}]] --output_dir ${{outputs.output_dir}}', 'code': '/subscriptions/32dff789-bcd1-41d0-8899-b06bf1c4a8c7/resourceGroups/cv-framework-rg/providers/Microsoft.MachineLearningServices/workspaces/cv-framework/codes/6c91406b-e564-429c-8c54-1e8e8251410d/versions/1', 'environment_variables': None, 'environment': '/subscriptions/32dff789-bcd1-41d0-8899-b06bf1c4a8c7/resourceGroups/cv-framework-rg/providers/Microsoft.MachineLearningServices/workspaces/cv-framework/environments/CliV2AnonymousEnvironment/versions/e98efa930338b32a9869971f807394dc', 'distribution': None, 'resources': {'instance_count': 1}, 'version': '0.0.10', 'latest_version': None, 'schema': 'https://azuremlschemas.azureedge.net/latest/commandComponent.schema.json', 'type': 'command', 'display_name': 'Train Anomaly Model', 'is_deterministic': True, 'inputs': {'data_dir': {'type': 'uri_folder', 'optional': False}, 'max_epochs': {'type': 'integer', 'optional': True}}, 'outputs': {'output_dir': {'type': 'uri_folder'}}, 'yaml_str': None, 'other_parameter': {}})"
      ]
     },
     "execution_count": 1,
     "metadata": {},
     "output_type": "execute_result"
    }
   ],
   "source": [
    "from azure.ai.ml import load_component\n",
    "from azure.ai.ml import MLClient\n",
    "from azure.identity import InteractiveBrowserCredential\n",
    "from src.designer import train_component\n",
    "\n",
    "train_component = load_component(source=\"./components/train.yaml\")\n",
    "\n",
    "credential = InteractiveBrowserCredential()\n",
    "client = MLClient.from_config(credential)\n",
    "client.components.create_or_update(train_component)"
   ]
  },
  {
   "cell_type": "code",
   "execution_count": null,
   "metadata": {},
   "outputs": [],
   "source": [
    "from azure.ai.ml import MLClient\n",
    "from azure.identity import InteractiveBrowserCredential\n",
    "from src.designer import train_component\n",
    "\n",
    "train_component.dump(\"tmp.yaml\")\n",
    "\n",
    "# credential = InteractiveBrowserCredential()\n",
    "# client = MLClient.from_config(credential)\n",
    "# client.components.create_or_update(train_component)"
   ]
  },
  {
   "cell_type": "code",
   "execution_count": null,
   "metadata": {},
   "outputs": [],
   "source": [
    "# if not exists, register component using following code\n",
    "prep = client.components.create_or_update(anomalib_train_component)"
   ]
  },
  {
   "cell_type": "code",
   "execution_count": null,
   "metadata": {},
   "outputs": [],
   "source": [
    "from azure.ai.ml.dsl import pipeline\n",
    "\n",
    "# define a pipeline containing 3 nodes: Prepare data node, train node, and score node\n",
    "@pipeline(\n",
    "    default_compute=COMPUTE_NAME,\n",
    ")\n",
    "def pipe(data_dir):\n",
    "    train_component = client.components.get(name=\"train_anomaly\", version=\"1\")\n",
    "\n",
    "    train_node = train_component(\n",
    "        data_dir=data_dir\n",
    "    )\n",
    "\n",
    "\n",
    "# create a pipeline\n",
    "pipeline_job = pipe(data_dir)"
   ]
  },
  {
   "cell_type": "code",
   "execution_count": null,
   "metadata": {},
   "outputs": [],
   "source": [
    "pipeline_job = ml_client.jobs.create_or_update(\n",
    "    pipeline_job, experiment_name=\"pipeline_samples\"\n",
    ")\n",
    "pipeline_job"
   ]
  }
 ],
 "metadata": {
  "kernelspec": {
   "display_name": "trainer-azure-gAB5i6MQ-py3.9",
   "language": "python",
   "name": "python3"
  },
  "language_info": {
   "codemirror_mode": {
    "name": "ipython",
    "version": 3
   },
   "file_extension": ".py",
   "mimetype": "text/x-python",
   "name": "python",
   "nbconvert_exporter": "python",
   "pygments_lexer": "ipython3",
   "version": "3.9.10"
  },
  "orig_nbformat": 4,
  "vscode": {
   "interpreter": {
    "hash": "333f2a4891ec7debb2186dee91df758a9c75483ebffc90fed12e0cb97c872648"
   }
  }
 },
 "nbformat": 4,
 "nbformat_minor": 2
}
